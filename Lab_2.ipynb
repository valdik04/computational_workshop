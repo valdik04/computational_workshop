{
 "cells": [
  {
   "cell_type": "code",
   "execution_count": 59,
   "id": "ceec7632",
   "metadata": {},
   "outputs": [],
   "source": [
    "import numpy as np\n",
    "import pandas as pd\n",
    "from math import sqrt"
   ]
  },
  {
   "cell_type": "code",
   "execution_count": 60,
   "id": "c20b3da9",
   "metadata": {},
   "outputs": [],
   "source": [
    "def find_b(L, x):  # находим b\n",
    "    b = np.dot(L, x)\n",
    "    return b"
   ]
  },
  {
   "cell_type": "code",
   "execution_count": 61,
   "id": "f9c19bd3",
   "metadata": {},
   "outputs": [],
   "source": [
    "def solve(L, b):  # решаем регуляризационную систему\n",
    "    y = np.linalg.solve(L, b)\n",
    "    x = np.linalg.solve(L.transpose(), y)\n",
    "    return x\n"
   ]
  },
  {
   "cell_type": "code",
   "execution_count": 62,
   "id": "f13a758d",
   "metadata": {},
   "outputs": [],
   "source": [
    "def sqrt_method(A):  # метод квадратого корня\n",
    "    L = np.zeros((A.shape[0], A.shape[0]))\n",
    "    for i in range(A.shape[0]):\n",
    "        for j in range(i):\n",
    "            temp = 0\n",
    "            for k in range(j):\n",
    "                temp += L[i][k] * L[j][k]\n",
    "            L[i][j] = (A[i][j] - temp) / L[j][j]\n",
    "        temp = A[i][i]\n",
    "        for k in range(i):\n",
    "            temp -= L[i][k] * L[i][k]\n",
    "        L[i][i] = sqrt(temp)\n",
    "    return L\n"
   ]
  },
  {
   "cell_type": "code",
   "execution_count": 63,
   "id": "37a1623c",
   "metadata": {},
   "outputs": [],
   "source": [
    "def variation_matrix(A, alpha, b, x):\n",
    "    df.append([alpha, np.linalg.cond(A), np.linalg.cond(A + alpha * np.eye(A.shape[0])),\n",
    "                 np.linalg.norm(x - solve(sqrt_method(A + alpha * np.eye(A.shape[0])), b))])\n",
    "    return df"
   ]
  },
  {
   "cell_type": "code",
   "execution_count": 64,
   "id": "2a071871",
   "metadata": {},
   "outputs": [],
   "source": [
    "def print_all(A, df, alpha, diff_matr):\n",
    "    print(\"Матрица:\")\n",
    "    print(*A, sep='\\n')\n",
    "    print()\n",
    "    print(pd.DataFrame(df, columns = ['alpha', 'cond(A)', 'cond(A+alpha*E)', '||x-x_a||']))\n",
    "    print()\n",
    "    print(\"||x - x_a|| для различных матриц:\")\n",
    "    print(pd.DataFrame(diff_matr, columns = ['Ax=b', 'A+alpha*x=b', 'A+10*alpha*x=b', 'A+0.1*alpha*x=b']))\n",
    "    print()"
   ]
  },
  {
   "cell_type": "code",
   "execution_count": 65,
   "id": "014fdc29",
   "metadata": {},
   "outputs": [],
   "source": [
    "data_Hilbert3 = [[1.0000, 0.5000, 0.3333],\n",
    "                 [0.5000, 0.3333, 0.2500],\n",
    "                 [0.3333, 0.2500, 0.2000]]\n",
    "data_Hilbert4 = [[1.0000, 0.5000, 0.3333, 0.2500],\n",
    "                 [0.5000, 0.3333, 0.2500, 0.2000],\n",
    "                 [0.3333, 0.2500, 0.2000, 0.1667],\n",
    "                 [0.2500, 0.2000, 0.1667, 0.1429]]\n",
    "data_Hilbert5 = [[1.0000, 0.5000, 0.3333, 0.2500, 0.2000],\n",
    "                 [0.5000, 0.3333, 0.2500, 0.2000, 0.1667],\n",
    "                 [0.3333, 0.2500, 0.2000, 0.1667, 0.1429],\n",
    "                 [0.2500, 0.2000, 0.1667, 0.1429, 0.1250],\n",
    "                 [0.2000, 0.1667, 0.1429, 0.1250, 0.1111]]"
   ]
  },
  {
   "cell_type": "code",
   "execution_count": 66,
   "id": "5f850431",
   "metadata": {},
   "outputs": [
    {
     "name": "stdout",
     "output_type": "stream",
     "text": [
      "Матрица:\n",
      "[1.     0.5    0.3333]\n",
      "[0.5    0.3333 0.25  ]\n",
      "[0.3333 0.25   0.2   ]\n",
      "\n",
      "          alpha     cond(A)  cond(A+alpha*E)     ||x-x_a||\n",
      "0  1.000000e-02  528.540912       111.989793  9.456109e-02\n",
      "1  1.000000e-04  528.540912       509.458182  3.744172e-03\n",
      "2  1.000000e-06  528.540912       528.342997  3.880585e-05\n",
      "3  1.000000e-08  528.540912       528.538932  3.882000e-07\n",
      "4  1.000000e-10  528.540912       528.540892  3.882009e-09\n",
      "5  1.000000e-12  528.540912       528.540912  3.883995e-11\n",
      "\n",
      "||x - x_a|| для различных матриц:\n",
      "           Ax=b   A+alpha*x=b  A+10*alpha*x=b  A+0.1*alpha*x=b\n",
      "0  1.834095e-12  3.788405e-09    3.786359e-08     3.791848e-10\n",
      "\n"
     ]
    }
   ],
   "source": [
    "A = np.array(data_Hilbert3, dtype=float)\n",
    "x = np.ones(A.shape[0])\n",
    "b = find_b(A, x)\n",
    "df = []\n",
    "for i in (-2, -4, -6, -8, -10, -12):\n",
    "    variation_matrix(A, 10 ** i, b, x)\n",
    "x = np.random.uniform(0, 100, size=A.shape[0])\n",
    "b = find_b(A, x)\n",
    "min_diff = df[0][3]\n",
    "for i in range(len(df)):\n",
    "    if min_diff > df[i][3]:\n",
    "        min_diff = df[i][3]\n",
    "        alpha = df[i][0]\n",
    "diff_matr = [[np.linalg.norm(x - solve(sqrt_method(A), b)),\n",
    "              np.linalg.norm(x - solve(sqrt_method(A + alpha * np.eye(A.shape[0])), b)),\n",
    "              np.linalg.norm(x - solve(sqrt_method(A + 10 * alpha * np.eye(A.shape[0])), b)),\n",
    "              np.linalg.norm(x - solve(sqrt_method(A + 0.1 * alpha * np.eye(A.shape[0])), b))]]\n",
    "print_all(A, df, alpha, diff_matr)"
   ]
  },
  {
   "cell_type": "code",
   "execution_count": 67,
   "id": "4ef2bca9",
   "metadata": {},
   "outputs": [
    {
     "data": {
      "text/html": [
       "<div>\n",
       "<style scoped>\n",
       "    .dataframe tbody tr th:only-of-type {\n",
       "        vertical-align: middle;\n",
       "    }\n",
       "\n",
       "    .dataframe tbody tr th {\n",
       "        vertical-align: top;\n",
       "    }\n",
       "\n",
       "    .dataframe thead th {\n",
       "        text-align: right;\n",
       "    }\n",
       "</style>\n",
       "<table border=\"1\" class=\"dataframe\">\n",
       "  <thead>\n",
       "    <tr style=\"text-align: right;\">\n",
       "      <th></th>\n",
       "      <th>alpha</th>\n",
       "      <th>cond(A)</th>\n",
       "      <th>cond(A + alpha * E)</th>\n",
       "      <th>||x - x_a||</th>\n",
       "    </tr>\n",
       "  </thead>\n",
       "  <tbody>\n",
       "    <tr>\n",
       "      <th>0</th>\n",
       "      <td>1.000000e-02</td>\n",
       "      <td>528.540912</td>\n",
       "      <td>111.989793</td>\n",
       "      <td>9.456109e-02</td>\n",
       "    </tr>\n",
       "    <tr>\n",
       "      <th>1</th>\n",
       "      <td>1.000000e-04</td>\n",
       "      <td>528.540912</td>\n",
       "      <td>509.458182</td>\n",
       "      <td>3.744172e-03</td>\n",
       "    </tr>\n",
       "    <tr>\n",
       "      <th>2</th>\n",
       "      <td>1.000000e-06</td>\n",
       "      <td>528.540912</td>\n",
       "      <td>528.342997</td>\n",
       "      <td>3.880585e-05</td>\n",
       "    </tr>\n",
       "    <tr>\n",
       "      <th>3</th>\n",
       "      <td>1.000000e-08</td>\n",
       "      <td>528.540912</td>\n",
       "      <td>528.538932</td>\n",
       "      <td>3.882000e-07</td>\n",
       "    </tr>\n",
       "    <tr>\n",
       "      <th>4</th>\n",
       "      <td>1.000000e-10</td>\n",
       "      <td>528.540912</td>\n",
       "      <td>528.540892</td>\n",
       "      <td>3.882009e-09</td>\n",
       "    </tr>\n",
       "    <tr>\n",
       "      <th>5</th>\n",
       "      <td>1.000000e-12</td>\n",
       "      <td>528.540912</td>\n",
       "      <td>528.540912</td>\n",
       "      <td>3.883995e-11</td>\n",
       "    </tr>\n",
       "  </tbody>\n",
       "</table>\n",
       "</div>"
      ],
      "text/plain": [
       "          alpha     cond(A)  cond(A + alpha * E)   ||x - x_a||\n",
       "0  1.000000e-02  528.540912           111.989793  9.456109e-02\n",
       "1  1.000000e-04  528.540912           509.458182  3.744172e-03\n",
       "2  1.000000e-06  528.540912           528.342997  3.880585e-05\n",
       "3  1.000000e-08  528.540912           528.538932  3.882000e-07\n",
       "4  1.000000e-10  528.540912           528.540892  3.882009e-09\n",
       "5  1.000000e-12  528.540912           528.540912  3.883995e-11"
      ]
     },
     "execution_count": 67,
     "metadata": {},
     "output_type": "execute_result"
    }
   ],
   "source": [
    "pd.DataFrame(df, columns = ['alpha', 'cond(A)', 'cond(A + alpha * E)', '||x - x_a||'])"
   ]
  },
  {
   "cell_type": "code",
   "execution_count": 68,
   "id": "d1d0bb67",
   "metadata": {},
   "outputs": [
    {
     "name": "stdout",
     "output_type": "stream",
     "text": [
      "Матрица:\n",
      "[1.     0.5    0.3333 0.25  ]\n",
      "[0.5    0.3333 0.25   0.2   ]\n",
      "[0.3333 0.25   0.2    0.1667]\n",
      "[0.25   0.2    0.1667 0.1429]\n",
      "\n",
      "          alpha       cond(A)  cond(A+alpha*E)     ||x-x_a||\n",
      "0  1.000000e-02  19808.079661       149.884681  1.170389e-01\n",
      "1  1.000000e-04  19808.079661      8537.195610  1.300110e-02\n",
      "2  1.000000e-06  19808.079661     19549.962232  2.928614e-04\n",
      "3  1.000000e-08  19808.079661     19805.464751  2.966582e-06\n",
      "4  1.000000e-10  19808.079661     19808.053509  2.967039e-08\n",
      "5  1.000000e-12  19808.079661     19808.079400  2.941382e-10\n",
      "\n",
      "||x - x_a|| для различных матриц:\n",
      "           Ax=b   A+alpha*x=b  A+10*alpha*x=b  A+0.1*alpha*x=b\n",
      "0  5.367630e-11  2.847806e-07        0.000003     2.850012e-08\n",
      "\n"
     ]
    }
   ],
   "source": [
    "A = np.array(data_Hilbert4, dtype=float)\n",
    "x = np.ones(A.shape[0])\n",
    "b = find_b(A, x)\n",
    "df = []\n",
    "for i in (-2, -4, -6, -8, -10, -12):\n",
    "    variation_matrix(A, 10 ** i, b, x)\n",
    "x = np.random.uniform(0, 100, size=A.shape[0])\n",
    "b = find_b(A, x)\n",
    "min_diff = df[0][3]\n",
    "for i in range(len(df)):\n",
    "    if min_diff > df[i][3]:\n",
    "        min_diff = df[i][3]\n",
    "        alpha = df[i][0]\n",
    "diff_matr = [[np.linalg.norm(x - solve(sqrt_method(A), b)),\n",
    "              np.linalg.norm(x - solve(sqrt_method(A + alpha * np.eye(A.shape[0])), b)),\n",
    "              np.linalg.norm(x - solve(sqrt_method(A + 10 * alpha * np.eye(A.shape[0])), b)),\n",
    "              np.linalg.norm(x - solve(sqrt_method(A + 0.1 * alpha * np.eye(A.shape[0])), b))]]\n",
    "print_all(A, df, alpha, diff_matr)"
   ]
  },
  {
   "cell_type": "code",
   "execution_count": 69,
   "id": "53a03eb6",
   "metadata": {},
   "outputs": [
    {
     "name": "stdout",
     "output_type": "stream",
     "text": [
      "Матрица:\n",
      "[1.     0.5    0.3333 0.25   0.2   ]\n",
      "[0.5    0.3333 0.25   0.2    0.1667]\n",
      "[0.3333 0.25   0.2    0.1667 0.1429]\n",
      "[0.25   0.2    0.1667 0.1429 0.125 ]\n",
      "[0.2    0.1667 0.1429 0.125  0.1111]\n",
      "\n",
      "          alpha        cond(A)  cond(A+alpha*E)     ||x-x_a||\n",
      "0  1.000000e-02  137225.870896       157.524847  1.304298e-01\n",
      "1  1.000000e-04  137225.870896     14065.290924  1.132977e-02\n",
      "2  1.000000e-06  137225.870896    126176.701964  1.677773e-04\n",
      "3  1.000000e-08  137225.870896    137105.808620  1.712636e-06\n",
      "4  1.000000e-10  137225.870896    137224.669232  1.712650e-08\n",
      "5  1.000000e-12  137225.870896    137225.858879  1.723123e-10\n",
      "\n",
      "||x - x_a|| для различных матриц:\n",
      "           Ax=b  A+alpha*x=b  A+10*alpha*x=b  A+0.1*alpha*x=b\n",
      "0  1.307864e-10     0.000003        0.000028     2.766404e-07\n",
      "\n"
     ]
    }
   ],
   "source": [
    "A = np.array(data_Hilbert5, dtype=float)\n",
    "x = np.ones(A.shape[0])\n",
    "b = find_b(A, x)\n",
    "df = []\n",
    "for i in (-2, -4, -6, -8, -10, -12):\n",
    "    variation_matrix(A, 10 ** i, b, x)\n",
    "x = np.random.uniform(0, 100, size=A.shape[0])\n",
    "b = find_b(A, x)\n",
    "min_diff = df[0][3]\n",
    "for i in range(len(df)):\n",
    "    if min_diff > df[i][3]:\n",
    "        min_diff = df[i][3]\n",
    "        alpha = df[i][0]\n",
    "diff_matr = [[np.linalg.norm(x - solve(sqrt_method(A), b)),\n",
    "              np.linalg.norm(x - solve(sqrt_method(A + alpha * np.eye(A.shape[0])), b)),\n",
    "              np.linalg.norm(x - solve(sqrt_method(A + 10 * alpha * np.eye(A.shape[0])), b)),\n",
    "              np.linalg.norm(x - solve(sqrt_method(A + 0.1 * alpha * np.eye(A.shape[0])), b))]]\n",
    "print_all(A, df, alpha, diff_matr)"
   ]
  }
 ],
 "metadata": {
  "kernelspec": {
   "display_name": "Python 3",
   "language": "python",
   "name": "python3"
  },
  "language_info": {
   "codemirror_mode": {
    "name": "ipython",
    "version": 3
   },
   "file_extension": ".py",
   "mimetype": "text/x-python",
   "name": "python",
   "nbconvert_exporter": "python",
   "pygments_lexer": "ipython3",
   "version": "3.8.8"
  }
 },
 "nbformat": 4,
 "nbformat_minor": 5
}
