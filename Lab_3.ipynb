{
 "cells": [
  {
   "cell_type": "code",
   "execution_count": 1,
   "id": "98550343",
   "metadata": {},
   "outputs": [],
   "source": [
    "import numpy as np"
   ]
  },
  {
   "cell_type": "code",
   "execution_count": 2,
   "id": "64a8fba7",
   "metadata": {},
   "outputs": [],
   "source": [
    "def find_b(A, x):  # находим b\n",
    "    b = np.dot(A, x)\n",
    "    return b"
   ]
  },
  {
   "cell_type": "code",
   "execution_count": 3,
   "id": "6c1769c2",
   "metadata": {},
   "outputs": [],
   "source": [
    "def solve_rotation(A, b):  # метод вращений\n",
    "    q = np.column_stack([A, b])\n",
    "    for i in range(q.shape[0] - 1):\n",
    "        for j in range(i + 1, q.shape[0]):\n",
    "            c = q[i, i] / (q[i, i] ** 2 + q[j, i] ** 2) ** (1/2)\n",
    "            s = q[j, i] / (q[i, i] ** 2 + q[j, i] ** 2) ** (1/2)\n",
    "            tmp = q[i, :] * c + q[j, :] * s\n",
    "            q[j, :] = q[i, :] * -s + q[j, :] * c\n",
    "            q[i, :] = tmp\n",
    "    x = np.linalg.solve(q[:, :-1], q[:, -1])\n",
    "    return x"
   ]
  },
  {
   "cell_type": "code",
   "execution_count": 41,
   "id": "de5e2cea",
   "metadata": {},
   "outputs": [
    {
     "name": "stdout",
     "output_type": "stream",
     "text": [
      "Матрица Гильберта 3 порядка:\n",
      "||x - x_rot|| = 8.886046430725106e-13\n",
      "\n",
      "Матрица Гильберта 4 порядка:\n",
      "||x - x_rot|| = 3.291136432172055e-11\n",
      "\n",
      "Матрица Гильберта 5 порядка:\n",
      "||x - x_rot|| = 3.7819989837856906e-10\n",
      "\n",
      "Матрица Гильберта 10 порядка:\n",
      "||x - x_rot|| = 0.0066187382229452125\n",
      "\n"
     ]
    }
   ],
   "source": [
    "for n in (3, 4, 5, 10):\n",
    "    A = np.array(np.zeros((n, n)), dtype=float)\n",
    "    for i in range(n):\n",
    "        for j in range(n):\n",
    "            A[i][j] = 1 / (i + 1 + j)\n",
    "    print(\"Матрица Гильберта\", n, \"порядка:\")\n",
    "    x = np.random.uniform(0, 100, size=A.shape[0])\n",
    "    b = find_b(A, x)\n",
    "    x_rot = solve_rotation(A, b)\n",
    "    print(\"||x - x_rot|| =\", np.linalg.norm(x - x_rot))\n",
    "    print()"
   ]
  },
  {
   "cell_type": "code",
   "execution_count": 42,
   "id": "4d68d6cb",
   "metadata": {},
   "outputs": [
    {
     "name": "stdout",
     "output_type": "stream",
     "text": [
      "Матрица Гильберта 3 порядка:\n",
      "||x - x_sqrt|| = 3.85231e-11\n",
      "\n",
      "Матрица Гильберта 4 порядка:\n",
      "||x - x_sqrt|| = 2.356787e-10\n",
      "\n",
      "Матрица Гильберта 5 порядка:\n",
      "||x - x_sqrt|| = 1.395701e-09\n",
      "\n",
      "Матрица Гильберта 10 порядка:\n",
      "||x - x_sqrt|| = 1.5e-05\n"
     ]
    }
   ],
   "source": [
    "print(\"Матрица Гильберта 3 порядка:\")\n",
    "print('||x - x_sqrt|| =', 3.852310e-11)\n",
    "print()\n",
    "print(\"Матрица Гильберта 4 порядка:\")\n",
    "print('||x - x_sqrt|| =', 2.356787e-10)\n",
    "print()\n",
    "print(\"Матрица Гильберта 5 порядка:\")\n",
    "print('||x - x_sqrt|| =', 1.395701e-09)\n",
    "print()\n",
    "print(\"Матрица Гильберта 10 порядка:\")\n",
    "print('||x - x_sqrt|| =', 0.000015)"
   ]
  },
  {
   "cell_type": "code",
   "execution_count": null,
   "id": "71eba215",
   "metadata": {},
   "outputs": [],
   "source": []
  }
 ],
 "metadata": {
  "kernelspec": {
   "display_name": "Python 3",
   "language": "python",
   "name": "python3"
  },
  "language_info": {
   "codemirror_mode": {
    "name": "ipython",
    "version": 3
   },
   "file_extension": ".py",
   "mimetype": "text/x-python",
   "name": "python",
   "nbconvert_exporter": "python",
   "pygments_lexer": "ipython3",
   "version": "3.8.8"
  }
 },
 "nbformat": 4,
 "nbformat_minor": 5
}
